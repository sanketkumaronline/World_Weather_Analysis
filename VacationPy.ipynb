{
 "cells": [
  {
   "cell_type": "code",
   "execution_count": 1,
   "metadata": {},
   "outputs": [],
   "source": [
    "# Import the dependencies.\n",
    "import pandas as pd\n",
    "import gmaps\n",
    "import requests\n",
    "# Import the API key.\n",
    "from config import g_key"
   ]
  },
  {
   "cell_type": "code",
   "execution_count": 2,
   "metadata": {},
   "outputs": [
    {
     "output_type": "execute_result",
     "data": {
      "text/plain": [
       "   City_ID        City Country               Date      Lat       Lng  \\\n",
       "0        0     Mataura      NZ  21-02-05 03:07:55 -46.1927  168.8643   \n",
       "1        1  Nikolskoye      RU  21-02-05 03:08:11  59.7035   30.7861   \n",
       "2        2      Torbay      CA  21-02-05 03:05:22  47.6666  -52.7314   \n",
       "3        3       Adrar      MR  21-02-05 03:08:28  20.5022  -10.0711   \n",
       "4        4    Goderich      CA  21-02-05 03:13:23  43.7501  -81.7165   \n",
       "5        5    Bengkulu      ID  21-02-05 03:05:32  -3.8004  102.2655   \n",
       "6        6      Albany      US  21-02-05 03:03:25  42.6001  -73.9662   \n",
       "7        7  Mahibadhoo      MV  21-02-05 03:13:24   3.7833   72.9667   \n",
       "8        8         Ode      NG  21-02-05 03:13:24   7.7899    5.7117   \n",
       "9        9     Ushuaia      AR  21-02-05 03:08:09 -54.8000  -68.3000   \n",
       "\n",
       "   Max Temp  Humidity  Cloudiness  Wind Speed  \n",
       "0     75.52        39          99        2.26  \n",
       "1      8.01        85          20        8.95  \n",
       "2     39.20       100          90        8.05  \n",
       "3     65.46        24          35        5.46  \n",
       "4     30.20        86         100       20.71  \n",
       "5     84.67        62          18        3.27  \n",
       "6     27.00        61           0        2.13  \n",
       "7     81.25        76         100       15.55  \n",
       "8     68.13        84           0        2.35  \n",
       "9     44.60        81          40       29.93  "
      ],
      "text/html": "<div>\n<style scoped>\n    .dataframe tbody tr th:only-of-type {\n        vertical-align: middle;\n    }\n\n    .dataframe tbody tr th {\n        vertical-align: top;\n    }\n\n    .dataframe thead th {\n        text-align: right;\n    }\n</style>\n<table border=\"1\" class=\"dataframe\">\n  <thead>\n    <tr style=\"text-align: right;\">\n      <th></th>\n      <th>City_ID</th>\n      <th>City</th>\n      <th>Country</th>\n      <th>Date</th>\n      <th>Lat</th>\n      <th>Lng</th>\n      <th>Max Temp</th>\n      <th>Humidity</th>\n      <th>Cloudiness</th>\n      <th>Wind Speed</th>\n    </tr>\n  </thead>\n  <tbody>\n    <tr>\n      <th>0</th>\n      <td>0</td>\n      <td>Mataura</td>\n      <td>NZ</td>\n      <td>21-02-05 03:07:55</td>\n      <td>-46.1927</td>\n      <td>168.8643</td>\n      <td>75.52</td>\n      <td>39</td>\n      <td>99</td>\n      <td>2.26</td>\n    </tr>\n    <tr>\n      <th>1</th>\n      <td>1</td>\n      <td>Nikolskoye</td>\n      <td>RU</td>\n      <td>21-02-05 03:08:11</td>\n      <td>59.7035</td>\n      <td>30.7861</td>\n      <td>8.01</td>\n      <td>85</td>\n      <td>20</td>\n      <td>8.95</td>\n    </tr>\n    <tr>\n      <th>2</th>\n      <td>2</td>\n      <td>Torbay</td>\n      <td>CA</td>\n      <td>21-02-05 03:05:22</td>\n      <td>47.6666</td>\n      <td>-52.7314</td>\n      <td>39.20</td>\n      <td>100</td>\n      <td>90</td>\n      <td>8.05</td>\n    </tr>\n    <tr>\n      <th>3</th>\n      <td>3</td>\n      <td>Adrar</td>\n      <td>MR</td>\n      <td>21-02-05 03:08:28</td>\n      <td>20.5022</td>\n      <td>-10.0711</td>\n      <td>65.46</td>\n      <td>24</td>\n      <td>35</td>\n      <td>5.46</td>\n    </tr>\n    <tr>\n      <th>4</th>\n      <td>4</td>\n      <td>Goderich</td>\n      <td>CA</td>\n      <td>21-02-05 03:13:23</td>\n      <td>43.7501</td>\n      <td>-81.7165</td>\n      <td>30.20</td>\n      <td>86</td>\n      <td>100</td>\n      <td>20.71</td>\n    </tr>\n    <tr>\n      <th>5</th>\n      <td>5</td>\n      <td>Bengkulu</td>\n      <td>ID</td>\n      <td>21-02-05 03:05:32</td>\n      <td>-3.8004</td>\n      <td>102.2655</td>\n      <td>84.67</td>\n      <td>62</td>\n      <td>18</td>\n      <td>3.27</td>\n    </tr>\n    <tr>\n      <th>6</th>\n      <td>6</td>\n      <td>Albany</td>\n      <td>US</td>\n      <td>21-02-05 03:03:25</td>\n      <td>42.6001</td>\n      <td>-73.9662</td>\n      <td>27.00</td>\n      <td>61</td>\n      <td>0</td>\n      <td>2.13</td>\n    </tr>\n    <tr>\n      <th>7</th>\n      <td>7</td>\n      <td>Mahibadhoo</td>\n      <td>MV</td>\n      <td>21-02-05 03:13:24</td>\n      <td>3.7833</td>\n      <td>72.9667</td>\n      <td>81.25</td>\n      <td>76</td>\n      <td>100</td>\n      <td>15.55</td>\n    </tr>\n    <tr>\n      <th>8</th>\n      <td>8</td>\n      <td>Ode</td>\n      <td>NG</td>\n      <td>21-02-05 03:13:24</td>\n      <td>7.7899</td>\n      <td>5.7117</td>\n      <td>68.13</td>\n      <td>84</td>\n      <td>0</td>\n      <td>2.35</td>\n    </tr>\n    <tr>\n      <th>9</th>\n      <td>9</td>\n      <td>Ushuaia</td>\n      <td>AR</td>\n      <td>21-02-05 03:08:09</td>\n      <td>-54.8000</td>\n      <td>-68.3000</td>\n      <td>44.60</td>\n      <td>81</td>\n      <td>40</td>\n      <td>29.93</td>\n    </tr>\n  </tbody>\n</table>\n</div>"
     },
     "metadata": {},
     "execution_count": 2
    }
   ],
   "source": [
    "# Store the CSV you saved created in part one into a DataFrame\n",
    "city_data_df = pd.read_csv(\"weather_data/cities.csv\")\n",
    "city_data_df.head(10)"
   ]
  },
  {
   "cell_type": "code",
   "execution_count": 3,
   "metadata": {},
   "outputs": [
    {
     "output_type": "execute_result",
     "data": {
      "text/plain": [
       "City_ID         int64\n",
       "City           object\n",
       "Country        object\n",
       "Date           object\n",
       "Lat           float64\n",
       "Lng           float64\n",
       "Max Temp      float64\n",
       "Humidity        int64\n",
       "Cloudiness      int64\n",
       "Wind Speed    float64\n",
       "dtype: object"
      ]
     },
     "metadata": {},
     "execution_count": 3
    }
   ],
   "source": [
    "# Get the data types\n",
    "city_data_df.dtypes"
   ]
  },
  {
   "cell_type": "code",
   "execution_count": 4,
   "metadata": {},
   "outputs": [],
   "source": [
    "# Configure gmaps to use your Google API key\n",
    "gmaps.configure(api_key=g_key)\n"
   ]
  },
  {
   "cell_type": "code",
   "execution_count": 5,
   "metadata": {},
   "outputs": [
    {
     "output_type": "display_data",
     "data": {
      "text/plain": "Figure(layout=FigureLayout(height='420px'))",
      "application/vnd.jupyter.widget-view+json": {
       "version_major": 2,
       "version_minor": 0,
       "model_id": "0982e306c88148ccb3fe91705079ef4f"
      }
     },
     "metadata": {}
    }
   ],
   "source": [
    "# Heatmap of temperature\n",
    "# Get the latitude and longitude\n",
    "locations = city_data_df[[\"Lat\",\"Lng\"]]\n",
    "# Get the maximum temperature\n",
    "max_temp = city_data_df[\"Max Temp\"]\n",
    "# Assign the figure variable\n",
    "fig = gmaps.figure(center=(30.0,31.0), zoom_level=1.5)\n",
    "# Assign the heatmap variable\n",
    "heat_layer = gmaps.heatmap_layer(locations, weights=[max(temp,0) for temp in max_temp],dissipating=False,max_intensity=300,point_radius=4)\n",
    "# Add the heatmap layer\n",
    "fig.add_layer(heat_layer)\n",
    "# Call the figure to plot the data.\n",
    "fig\n"
   ]
  },
  {
   "cell_type": "code",
   "execution_count": 6,
   "metadata": {},
   "outputs": [
    {
     "output_type": "display_data",
     "data": {
      "text/plain": "Figure(layout=FigureLayout(height='420px'))",
      "application/vnd.jupyter.widget-view+json": {
       "version_major": 2,
       "version_minor": 0,
       "model_id": "89477ad5db1f463a8412b8ba1411e16d"
      }
     },
     "metadata": {}
    }
   ],
   "source": [
    "# Heatmap of percent humidity\n",
    "locations = city_data_df[[\"Lat\", \"Lng\"]]\n",
    "humidity = city_data_df[\"Humidity\"]\n",
    "fig = gmaps.figure(center=(30.0, 31.0), zoom_level=1.5)\n",
    "heat_layer = gmaps.heatmap_layer(locations, weights=humidity, dissipating=False, max_intensity=300, point_radius=4)\n",
    "\n",
    "fig.add_layer(heat_layer)\n",
    "# Call the figure to plot the data.\n",
    "fig"
   ]
  },
  {
   "cell_type": "code",
   "execution_count": 7,
   "metadata": {},
   "outputs": [
    {
     "output_type": "display_data",
     "data": {
      "text/plain": "Figure(layout=FigureLayout(height='420px'))",
      "application/vnd.jupyter.widget-view+json": {
       "version_major": 2,
       "version_minor": 0,
       "model_id": "206d84f7a7e64d808b5c77684f65c24f"
      }
     },
     "metadata": {}
    }
   ],
   "source": [
    "# Heatmap of percent cloudiness\n",
    "locations = city_data_df[[\"Lat\", \"Lng\"]]\n",
    "clouds = city_data_df[\"Cloudiness\"]\n",
    "fig = gmaps.figure(center=(30.0, 31.0), zoom_level=1.5)\n",
    "heat_layer = gmaps.heatmap_layer(locations, weights=clouds, dissipating=False, max_intensity=300, point_radius=4)\n",
    "\n",
    "fig.add_layer(heat_layer)\n",
    "# Call the figure to plot the data.\n",
    "fig"
   ]
  },
  {
   "cell_type": "code",
   "execution_count": 8,
   "metadata": {},
   "outputs": [
    {
     "output_type": "display_data",
     "data": {
      "text/plain": "Figure(layout=FigureLayout(height='420px'))",
      "application/vnd.jupyter.widget-view+json": {
       "version_major": 2,
       "version_minor": 0,
       "model_id": "7bf73f958fc84f16a192c96527388a60"
      }
     },
     "metadata": {}
    }
   ],
   "source": [
    "# Heatmap of wind speed\n",
    "locations = city_data_df[[\"Lat\", \"Lng\"]]\n",
    "wind = city_data_df[\"Wind Speed\"]\n",
    "fig = gmaps.figure(center=(30.0, 31.0), zoom_level=1.5)\n",
    "heat_layer = gmaps.heatmap_layer(locations, weights=wind, dissipating=False, max_intensity=300, point_radius=4)\n",
    "\n",
    "fig.add_layer(heat_layer)\n",
    "# Call the figure to plot the data.\n",
    "fig"
   ]
  },
  {
   "cell_type": "code",
   "execution_count": 9,
   "metadata": {},
   "outputs": [],
   "source": [
    "# Ask the customer to add a minimum and maximum temperature value\n",
    "max_temp = float(input(\"What is the maximum temperature you would like for your trip? \"))\n",
    "min_temp = float(input(\"What is the minimum temperature you would like for your trip? \"))"
   ]
  },
  {
   "cell_type": "code",
   "execution_count": 10,
   "metadata": {},
   "outputs": [
    {
     "output_type": "execute_result",
     "data": {
      "text/plain": [
       "    City_ID      City Country               Date      Lat       Lng  Max Temp  \\\n",
       "2         2    Torbay      CA  21-02-05 03:05:22  47.6666  -52.7314     39.20   \n",
       "3         3     Adrar      MR  21-02-05 03:08:28  20.5022  -10.0711     65.46   \n",
       "4         4  Goderich      CA  21-02-05 03:13:23  43.7501  -81.7165     30.20   \n",
       "8         8       Ode      NG  21-02-05 03:13:24   7.7899    5.7117     68.13   \n",
       "9         9   Ushuaia      AR  21-02-05 03:08:09 -54.8000  -68.3000     44.60   \n",
       "10       10     Bluff      NZ  21-02-05 03:04:48 -46.6000  168.3333     58.35   \n",
       "12       12      Asau      RO  21-02-05 03:09:00  46.4333   26.4000     37.00   \n",
       "14       14      Sari      IR  21-02-05 03:11:17  36.5633   53.0601     52.83   \n",
       "15       15    Knysna      ZA  21-02-05 03:13:24 -34.0363   23.0471     60.80   \n",
       "16       16     Nguru      NG  21-02-05 03:13:25  12.8791   10.4526     65.41   \n",
       "\n",
       "    Humidity  Cloudiness  Wind Speed  \n",
       "2        100          90        8.05  \n",
       "3         24          35        5.46  \n",
       "4         86         100       20.71  \n",
       "8         84           0        2.35  \n",
       "9         81          40       29.93  \n",
       "10        73         100       11.74  \n",
       "12        69          17        2.21  \n",
       "14        43          72        3.62  \n",
       "15        82           0        2.30  \n",
       "16        26           0       13.04  "
      ],
      "text/html": "<div>\n<style scoped>\n    .dataframe tbody tr th:only-of-type {\n        vertical-align: middle;\n    }\n\n    .dataframe tbody tr th {\n        vertical-align: top;\n    }\n\n    .dataframe thead th {\n        text-align: right;\n    }\n</style>\n<table border=\"1\" class=\"dataframe\">\n  <thead>\n    <tr style=\"text-align: right;\">\n      <th></th>\n      <th>City_ID</th>\n      <th>City</th>\n      <th>Country</th>\n      <th>Date</th>\n      <th>Lat</th>\n      <th>Lng</th>\n      <th>Max Temp</th>\n      <th>Humidity</th>\n      <th>Cloudiness</th>\n      <th>Wind Speed</th>\n    </tr>\n  </thead>\n  <tbody>\n    <tr>\n      <th>2</th>\n      <td>2</td>\n      <td>Torbay</td>\n      <td>CA</td>\n      <td>21-02-05 03:05:22</td>\n      <td>47.6666</td>\n      <td>-52.7314</td>\n      <td>39.20</td>\n      <td>100</td>\n      <td>90</td>\n      <td>8.05</td>\n    </tr>\n    <tr>\n      <th>3</th>\n      <td>3</td>\n      <td>Adrar</td>\n      <td>MR</td>\n      <td>21-02-05 03:08:28</td>\n      <td>20.5022</td>\n      <td>-10.0711</td>\n      <td>65.46</td>\n      <td>24</td>\n      <td>35</td>\n      <td>5.46</td>\n    </tr>\n    <tr>\n      <th>4</th>\n      <td>4</td>\n      <td>Goderich</td>\n      <td>CA</td>\n      <td>21-02-05 03:13:23</td>\n      <td>43.7501</td>\n      <td>-81.7165</td>\n      <td>30.20</td>\n      <td>86</td>\n      <td>100</td>\n      <td>20.71</td>\n    </tr>\n    <tr>\n      <th>8</th>\n      <td>8</td>\n      <td>Ode</td>\n      <td>NG</td>\n      <td>21-02-05 03:13:24</td>\n      <td>7.7899</td>\n      <td>5.7117</td>\n      <td>68.13</td>\n      <td>84</td>\n      <td>0</td>\n      <td>2.35</td>\n    </tr>\n    <tr>\n      <th>9</th>\n      <td>9</td>\n      <td>Ushuaia</td>\n      <td>AR</td>\n      <td>21-02-05 03:08:09</td>\n      <td>-54.8000</td>\n      <td>-68.3000</td>\n      <td>44.60</td>\n      <td>81</td>\n      <td>40</td>\n      <td>29.93</td>\n    </tr>\n    <tr>\n      <th>10</th>\n      <td>10</td>\n      <td>Bluff</td>\n      <td>NZ</td>\n      <td>21-02-05 03:04:48</td>\n      <td>-46.6000</td>\n      <td>168.3333</td>\n      <td>58.35</td>\n      <td>73</td>\n      <td>100</td>\n      <td>11.74</td>\n    </tr>\n    <tr>\n      <th>12</th>\n      <td>12</td>\n      <td>Asau</td>\n      <td>RO</td>\n      <td>21-02-05 03:09:00</td>\n      <td>46.4333</td>\n      <td>26.4000</td>\n      <td>37.00</td>\n      <td>69</td>\n      <td>17</td>\n      <td>2.21</td>\n    </tr>\n    <tr>\n      <th>14</th>\n      <td>14</td>\n      <td>Sari</td>\n      <td>IR</td>\n      <td>21-02-05 03:11:17</td>\n      <td>36.5633</td>\n      <td>53.0601</td>\n      <td>52.83</td>\n      <td>43</td>\n      <td>72</td>\n      <td>3.62</td>\n    </tr>\n    <tr>\n      <th>15</th>\n      <td>15</td>\n      <td>Knysna</td>\n      <td>ZA</td>\n      <td>21-02-05 03:13:24</td>\n      <td>-34.0363</td>\n      <td>23.0471</td>\n      <td>60.80</td>\n      <td>82</td>\n      <td>0</td>\n      <td>2.30</td>\n    </tr>\n    <tr>\n      <th>16</th>\n      <td>16</td>\n      <td>Nguru</td>\n      <td>NG</td>\n      <td>21-02-05 03:13:25</td>\n      <td>12.8791</td>\n      <td>10.4526</td>\n      <td>65.41</td>\n      <td>26</td>\n      <td>0</td>\n      <td>13.04</td>\n    </tr>\n  </tbody>\n</table>\n</div>"
     },
     "metadata": {},
     "execution_count": 10
    }
   ],
   "source": [
    "preferred_cities_df = city_data_df.loc[(city_data_df[\"Max Temp\"]<=max_temp) & (city_data_df[\"Max Temp\"]>=min_temp)].dropna()\n",
    "preferred_cities_df.head(10)"
   ]
  },
  {
   "cell_type": "code",
   "execution_count": 11,
   "metadata": {},
   "outputs": [
    {
     "output_type": "execute_result",
     "data": {
      "text/plain": [
       "City_ID       231\n",
       "City          231\n",
       "Country       231\n",
       "Date          231\n",
       "Lat           231\n",
       "Lng           231\n",
       "Max Temp      231\n",
       "Humidity      231\n",
       "Cloudiness    231\n",
       "Wind Speed    231\n",
       "dtype: int64"
      ]
     },
     "metadata": {},
     "execution_count": 11
    }
   ],
   "source": [
    "# Checking null values\n",
    "preferred_cities_df.count()"
   ]
  },
  {
   "cell_type": "code",
   "execution_count": 12,
   "metadata": {},
   "outputs": [
    {
     "output_type": "execute_result",
     "data": {
      "text/plain": [
       "        City Country  Max Temp      Lat       Lng Hotel Name\n",
       "2     Torbay      CA     39.20  47.6666  -52.7314           \n",
       "3      Adrar      MR     65.46  20.5022  -10.0711           \n",
       "4   Goderich      CA     30.20  43.7501  -81.7165           \n",
       "8        Ode      NG     68.13   7.7899    5.7117           \n",
       "9    Ushuaia      AR     44.60 -54.8000  -68.3000           \n",
       "10     Bluff      NZ     58.35 -46.6000  168.3333           \n",
       "12      Asau      RO     37.00  46.4333   26.4000           \n",
       "14      Sari      IR     52.83  36.5633   53.0601           \n",
       "15    Knysna      ZA     60.80 -34.0363   23.0471           \n",
       "16     Nguru      NG     65.41  12.8791   10.4526           "
      ],
      "text/html": "<div>\n<style scoped>\n    .dataframe tbody tr th:only-of-type {\n        vertical-align: middle;\n    }\n\n    .dataframe tbody tr th {\n        vertical-align: top;\n    }\n\n    .dataframe thead th {\n        text-align: right;\n    }\n</style>\n<table border=\"1\" class=\"dataframe\">\n  <thead>\n    <tr style=\"text-align: right;\">\n      <th></th>\n      <th>City</th>\n      <th>Country</th>\n      <th>Max Temp</th>\n      <th>Lat</th>\n      <th>Lng</th>\n      <th>Hotel Name</th>\n    </tr>\n  </thead>\n  <tbody>\n    <tr>\n      <th>2</th>\n      <td>Torbay</td>\n      <td>CA</td>\n      <td>39.20</td>\n      <td>47.6666</td>\n      <td>-52.7314</td>\n      <td></td>\n    </tr>\n    <tr>\n      <th>3</th>\n      <td>Adrar</td>\n      <td>MR</td>\n      <td>65.46</td>\n      <td>20.5022</td>\n      <td>-10.0711</td>\n      <td></td>\n    </tr>\n    <tr>\n      <th>4</th>\n      <td>Goderich</td>\n      <td>CA</td>\n      <td>30.20</td>\n      <td>43.7501</td>\n      <td>-81.7165</td>\n      <td></td>\n    </tr>\n    <tr>\n      <th>8</th>\n      <td>Ode</td>\n      <td>NG</td>\n      <td>68.13</td>\n      <td>7.7899</td>\n      <td>5.7117</td>\n      <td></td>\n    </tr>\n    <tr>\n      <th>9</th>\n      <td>Ushuaia</td>\n      <td>AR</td>\n      <td>44.60</td>\n      <td>-54.8000</td>\n      <td>-68.3000</td>\n      <td></td>\n    </tr>\n    <tr>\n      <th>10</th>\n      <td>Bluff</td>\n      <td>NZ</td>\n      <td>58.35</td>\n      <td>-46.6000</td>\n      <td>168.3333</td>\n      <td></td>\n    </tr>\n    <tr>\n      <th>12</th>\n      <td>Asau</td>\n      <td>RO</td>\n      <td>37.00</td>\n      <td>46.4333</td>\n      <td>26.4000</td>\n      <td></td>\n    </tr>\n    <tr>\n      <th>14</th>\n      <td>Sari</td>\n      <td>IR</td>\n      <td>52.83</td>\n      <td>36.5633</td>\n      <td>53.0601</td>\n      <td></td>\n    </tr>\n    <tr>\n      <th>15</th>\n      <td>Knysna</td>\n      <td>ZA</td>\n      <td>60.80</td>\n      <td>-34.0363</td>\n      <td>23.0471</td>\n      <td></td>\n    </tr>\n    <tr>\n      <th>16</th>\n      <td>Nguru</td>\n      <td>NG</td>\n      <td>65.41</td>\n      <td>12.8791</td>\n      <td>10.4526</td>\n      <td></td>\n    </tr>\n  </tbody>\n</table>\n</div>"
     },
     "metadata": {},
     "execution_count": 12
    }
   ],
   "source": [
    "# Create DataFrame called hotel_df to store hotel names along with city, country, max temp, and coordinates\n",
    "hotel_df = preferred_cities_df[[\"City\",\"Country\",\"Max Temp\",\"Lat\",\"Lng\"]].copy()\n",
    "hotel_df[\"Hotel Name\"] = \"\"\n",
    "hotel_df.head(10)"
   ]
  },
  {
   "cell_type": "code",
   "execution_count": 13,
   "metadata": {},
   "outputs": [
    {
     "output_type": "stream",
     "name": "stdout",
     "text": [
      "Hotel not found.... skipping.\n",
      "Hotel not found.... skipping.\n",
      "Hotel not found.... skipping.\n",
      "Hotel not found.... skipping.\n",
      "Hotel not found.... skipping.\n",
      "Hotel not found.... skipping.\n",
      "Hotel not found.... skipping.\n",
      "Hotel not found.... skipping.\n",
      "Hotel not found.... skipping.\n",
      "Hotel not found.... skipping.\n",
      "Hotel not found.... skipping.\n",
      "Hotel not found.... skipping.\n",
      "Hotel not found.... skipping.\n",
      "Hotel not found.... skipping.\n"
     ]
    }
   ],
   "source": [
    "# Set parameters to search for a hotel\n",
    "params = {\n",
    "    \"radius\": 5000,\n",
    "    \"type\": \"lodging\",\n",
    "    \"key\": g_key\n",
    "}\n",
    "# Iterate through the DataFrame\n",
    "for index, row in hotel_df.iterrows():\n",
    "    # Get the latitude and longitude\n",
    "    lat = row[\"Lat\"]\n",
    "    lng = row[\"Lng\"]\n",
    "    # Add the latitude and longitude to location key for the params dictionary\n",
    "    params[\"location\"] = f\"{lat},{lng}\"\n",
    "    # Use the search term: \"lodging\" and our latitude and longitude\n",
    "    base_url = \"https://maps.googleapis.com/maps/api/place/nearbysearch/json\"\n",
    "    # Make request and get the JSON data from the search\n",
    "    hotels = requests.get(base_url, params=params).json()\n",
    "    # Grab the first hotel from the results and store the name\n",
    "    try:\n",
    "        hotel_df.loc[index, \"Hotel Name\"] = hotels[\"results\"][0][\"name\"]\n",
    "    except (IndexError):\n",
    "        print(\"Hotel not found.... skipping.\")"
   ]
  },
  {
   "cell_type": "code",
   "execution_count": 14,
   "metadata": {},
   "outputs": [
    {
     "output_type": "execute_result",
     "data": {
      "text/plain": [
       "           City Country  Max Temp      Lat       Lng  \\\n",
       "2        Torbay      CA     39.20  47.6666  -52.7314   \n",
       "4      Goderich      CA     30.20  43.7501  -81.7165   \n",
       "8           Ode      NG     68.13   7.7899    5.7117   \n",
       "9       Ushuaia      AR     44.60 -54.8000  -68.3000   \n",
       "10        Bluff      NZ     58.35 -46.6000  168.3333   \n",
       "12         Asau      RO     37.00  46.4333   26.4000   \n",
       "14         Sari      IR     52.83  36.5633   53.0601   \n",
       "15       Knysna      ZA     60.80 -34.0363   23.0471   \n",
       "16        Nguru      NG     65.41  12.8791   10.4526   \n",
       "17  Port Alfred      ZA     66.99 -33.5906   26.8910   \n",
       "\n",
       "                                       Hotel Name  \n",
       "2                                    Gallows Cove  \n",
       "4                                     Harmony Inn  \n",
       "8                                   MORALAB HOTEL  \n",
       "9                                  Albatros Hotel  \n",
       "10  Bluff Homestead - Guesthouse & Campervan Park  \n",
       "12                             Casa Mika Ciobanus  \n",
       "14                                      Tajan Inn  \n",
       "15          Protea Hotel by Marriott Knysna Quays  \n",
       "16                               Government Lodge  \n",
       "17                             The Halyards Hotel  "
      ],
      "text/html": "<div>\n<style scoped>\n    .dataframe tbody tr th:only-of-type {\n        vertical-align: middle;\n    }\n\n    .dataframe tbody tr th {\n        vertical-align: top;\n    }\n\n    .dataframe thead th {\n        text-align: right;\n    }\n</style>\n<table border=\"1\" class=\"dataframe\">\n  <thead>\n    <tr style=\"text-align: right;\">\n      <th></th>\n      <th>City</th>\n      <th>Country</th>\n      <th>Max Temp</th>\n      <th>Lat</th>\n      <th>Lng</th>\n      <th>Hotel Name</th>\n    </tr>\n  </thead>\n  <tbody>\n    <tr>\n      <th>2</th>\n      <td>Torbay</td>\n      <td>CA</td>\n      <td>39.20</td>\n      <td>47.6666</td>\n      <td>-52.7314</td>\n      <td>Gallows Cove</td>\n    </tr>\n    <tr>\n      <th>4</th>\n      <td>Goderich</td>\n      <td>CA</td>\n      <td>30.20</td>\n      <td>43.7501</td>\n      <td>-81.7165</td>\n      <td>Harmony Inn</td>\n    </tr>\n    <tr>\n      <th>8</th>\n      <td>Ode</td>\n      <td>NG</td>\n      <td>68.13</td>\n      <td>7.7899</td>\n      <td>5.7117</td>\n      <td>MORALAB HOTEL</td>\n    </tr>\n    <tr>\n      <th>9</th>\n      <td>Ushuaia</td>\n      <td>AR</td>\n      <td>44.60</td>\n      <td>-54.8000</td>\n      <td>-68.3000</td>\n      <td>Albatros Hotel</td>\n    </tr>\n    <tr>\n      <th>10</th>\n      <td>Bluff</td>\n      <td>NZ</td>\n      <td>58.35</td>\n      <td>-46.6000</td>\n      <td>168.3333</td>\n      <td>Bluff Homestead - Guesthouse &amp; Campervan Park</td>\n    </tr>\n    <tr>\n      <th>12</th>\n      <td>Asau</td>\n      <td>RO</td>\n      <td>37.00</td>\n      <td>46.4333</td>\n      <td>26.4000</td>\n      <td>Casa Mika Ciobanus</td>\n    </tr>\n    <tr>\n      <th>14</th>\n      <td>Sari</td>\n      <td>IR</td>\n      <td>52.83</td>\n      <td>36.5633</td>\n      <td>53.0601</td>\n      <td>Tajan Inn</td>\n    </tr>\n    <tr>\n      <th>15</th>\n      <td>Knysna</td>\n      <td>ZA</td>\n      <td>60.80</td>\n      <td>-34.0363</td>\n      <td>23.0471</td>\n      <td>Protea Hotel by Marriott Knysna Quays</td>\n    </tr>\n    <tr>\n      <th>16</th>\n      <td>Nguru</td>\n      <td>NG</td>\n      <td>65.41</td>\n      <td>12.8791</td>\n      <td>10.4526</td>\n      <td>Government Lodge</td>\n    </tr>\n    <tr>\n      <th>17</th>\n      <td>Port Alfred</td>\n      <td>ZA</td>\n      <td>66.99</td>\n      <td>-33.5906</td>\n      <td>26.8910</td>\n      <td>The Halyards Hotel</td>\n    </tr>\n  </tbody>\n</table>\n</div>"
     },
     "metadata": {},
     "execution_count": 14
    }
   ],
   "source": [
    "hotel_df = hotel_df[hotel_df[\"Hotel Name\"]!=\"\"]\n",
    "hotel_df.head(10)"
   ]
  },
  {
   "cell_type": "code",
   "execution_count": 15,
   "metadata": {},
   "outputs": [
    {
     "output_type": "execute_result",
     "data": {
      "text/plain": [
       "City          217\n",
       "Country       217\n",
       "Max Temp      217\n",
       "Lat           217\n",
       "Lng           217\n",
       "Hotel Name    217\n",
       "dtype: int64"
      ]
     },
     "metadata": {},
     "execution_count": 15
    }
   ],
   "source": [
    "hotel_df.count()"
   ]
  },
  {
   "cell_type": "code",
   "execution_count": null,
   "metadata": {},
   "outputs": [],
   "source": []
  }
 ],
 "metadata": {
  "kernelspec": {
   "display_name": "PythonData",
   "language": "python",
   "name": "pythondata"
  },
  "language_info": {
   "codemirror_mode": {
    "name": "ipython",
    "version": 3
   },
   "file_extension": ".py",
   "mimetype": "text/x-python",
   "name": "python",
   "nbconvert_exporter": "python",
   "pygments_lexer": "ipython3",
   "version": "3.8.5-final"
  }
 },
 "nbformat": 4,
 "nbformat_minor": 2
}