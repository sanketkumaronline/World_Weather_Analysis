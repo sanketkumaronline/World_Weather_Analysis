{
 "cells": [
  {
   "cell_type": "markdown",
   "metadata": {},
   "source": [
    "## Deliverable 2. Create a Customer Travel Destinations Map."
   ]
  },
  {
   "cell_type": "code",
   "execution_count": 2,
   "metadata": {},
   "outputs": [],
   "source": [
    "# Dependencies and Setup\n",
    "import pandas as pd\n",
    "import requests\n",
    "import gmaps\n",
    "\n",
    "# Import API key\n",
    "from config import g_key\n",
    "\n",
    "# Configure gmaps API key\n",
    "gmaps.configure(api_key=g_key)"
   ]
  },
  {
   "cell_type": "code",
   "execution_count": 3,
   "metadata": {},
   "outputs": [
    {
     "output_type": "execute_result",
     "data": {
      "text/plain": [
       "   City_ID           City Country      Lat       Lng  Max Temp  Humidity  \\\n",
       "0        0         Hobart      AU -42.8794  147.3294     68.00        63   \n",
       "1        1        Mataura      NZ -46.1927  168.8643     81.86        44   \n",
       "2        2      Busselton      AU -33.6500  115.3333     62.01        95   \n",
       "3        3          Ancud      CL -41.8697  -73.8203     62.60        45   \n",
       "4        4  Fuerte Olimpo      PY -21.0415  -57.8738     70.05        64   \n",
       "\n",
       "   Cloudiness  Wind Speed Current Description  \n",
       "0          75       17.27       broken clouds  \n",
       "1           5        1.34           clear sky  \n",
       "2         100        3.00          light rain  \n",
       "3           0       10.36           clear sky  \n",
       "4           0        4.12           clear sky  "
      ],
      "text/html": "<div>\n<style scoped>\n    .dataframe tbody tr th:only-of-type {\n        vertical-align: middle;\n    }\n\n    .dataframe tbody tr th {\n        vertical-align: top;\n    }\n\n    .dataframe thead th {\n        text-align: right;\n    }\n</style>\n<table border=\"1\" class=\"dataframe\">\n  <thead>\n    <tr style=\"text-align: right;\">\n      <th></th>\n      <th>City_ID</th>\n      <th>City</th>\n      <th>Country</th>\n      <th>Lat</th>\n      <th>Lng</th>\n      <th>Max Temp</th>\n      <th>Humidity</th>\n      <th>Cloudiness</th>\n      <th>Wind Speed</th>\n      <th>Current Description</th>\n    </tr>\n  </thead>\n  <tbody>\n    <tr>\n      <th>0</th>\n      <td>0</td>\n      <td>Hobart</td>\n      <td>AU</td>\n      <td>-42.8794</td>\n      <td>147.3294</td>\n      <td>68.00</td>\n      <td>63</td>\n      <td>75</td>\n      <td>17.27</td>\n      <td>broken clouds</td>\n    </tr>\n    <tr>\n      <th>1</th>\n      <td>1</td>\n      <td>Mataura</td>\n      <td>NZ</td>\n      <td>-46.1927</td>\n      <td>168.8643</td>\n      <td>81.86</td>\n      <td>44</td>\n      <td>5</td>\n      <td>1.34</td>\n      <td>clear sky</td>\n    </tr>\n    <tr>\n      <th>2</th>\n      <td>2</td>\n      <td>Busselton</td>\n      <td>AU</td>\n      <td>-33.6500</td>\n      <td>115.3333</td>\n      <td>62.01</td>\n      <td>95</td>\n      <td>100</td>\n      <td>3.00</td>\n      <td>light rain</td>\n    </tr>\n    <tr>\n      <th>3</th>\n      <td>3</td>\n      <td>Ancud</td>\n      <td>CL</td>\n      <td>-41.8697</td>\n      <td>-73.8203</td>\n      <td>62.60</td>\n      <td>45</td>\n      <td>0</td>\n      <td>10.36</td>\n      <td>clear sky</td>\n    </tr>\n    <tr>\n      <th>4</th>\n      <td>4</td>\n      <td>Fuerte Olimpo</td>\n      <td>PY</td>\n      <td>-21.0415</td>\n      <td>-57.8738</td>\n      <td>70.05</td>\n      <td>64</td>\n      <td>0</td>\n      <td>4.12</td>\n      <td>clear sky</td>\n    </tr>\n  </tbody>\n</table>\n</div>"
     },
     "metadata": {},
     "execution_count": 3
    }
   ],
   "source": [
    "# 1. Import the WeatherPy_database.csv file. \n",
    "city_data_df = pd.read_csv(\"Weather_Database/WeatherPy_database.csv\")\n",
    "city_data_df.head()"
   ]
  },
  {
   "cell_type": "code",
   "execution_count": 4,
   "metadata": {},
   "outputs": [],
   "source": [
    "# 2. Prompt the user to enter minimum and maximum temperature criteria \n",
    "max_temp = float(input(\"What is the maximum temperature you would like for your trip? \"))\n",
    "min_temp = float(input(\"What is the minimum temperature you would like for your trip? \"))"
   ]
  },
  {
   "cell_type": "code",
   "execution_count": 10,
   "metadata": {},
   "outputs": [
    {
     "output_type": "execute_result",
     "data": {
      "text/plain": [
       "    City_ID         City Country      Lat       Lng  Max Temp  Humidity  \\\n",
       "0         0       Hobart      AU -42.8794  147.3294     68.00        63   \n",
       "2         2    Busselton      AU -33.6500  115.3333     62.01        95   \n",
       "3         3        Ancud      CL -41.8697  -73.8203     62.60        45   \n",
       "5         5     Hermanus      ZA -34.4187   19.2345     66.99        94   \n",
       "7         7  Port Alfred      ZA -33.5906   26.8910     66.99        87   \n",
       "8         8       Castro      BR -24.7911  -50.0119     61.25        92   \n",
       "9         9       Kodiak      US  57.7900 -152.4072     35.60        64   \n",
       "16       16        Bluff      NZ -46.6000  168.3333     61.45        71   \n",
       "17       17   Sao Filipe      CV  14.8961  -24.4956     69.31        74   \n",
       "18       18  Silver City      US  32.7701 -108.2803     43.00        26   \n",
       "\n",
       "    Cloudiness  Wind Speed Current Description  \n",
       "0           75       17.27       broken clouds  \n",
       "2          100        3.00          light rain  \n",
       "3            0       10.36           clear sky  \n",
       "5           98        4.76     overcast clouds  \n",
       "7           33        4.00    scattered clouds  \n",
       "8           42       10.87    scattered clouds  \n",
       "9            1        5.75           clear sky  \n",
       "16           0        7.96           clear sky  \n",
       "17          18       14.97          few clouds  \n",
       "18           1        6.91           clear sky  "
      ],
      "text/html": "<div>\n<style scoped>\n    .dataframe tbody tr th:only-of-type {\n        vertical-align: middle;\n    }\n\n    .dataframe tbody tr th {\n        vertical-align: top;\n    }\n\n    .dataframe thead th {\n        text-align: right;\n    }\n</style>\n<table border=\"1\" class=\"dataframe\">\n  <thead>\n    <tr style=\"text-align: right;\">\n      <th></th>\n      <th>City_ID</th>\n      <th>City</th>\n      <th>Country</th>\n      <th>Lat</th>\n      <th>Lng</th>\n      <th>Max Temp</th>\n      <th>Humidity</th>\n      <th>Cloudiness</th>\n      <th>Wind Speed</th>\n      <th>Current Description</th>\n    </tr>\n  </thead>\n  <tbody>\n    <tr>\n      <th>0</th>\n      <td>0</td>\n      <td>Hobart</td>\n      <td>AU</td>\n      <td>-42.8794</td>\n      <td>147.3294</td>\n      <td>68.00</td>\n      <td>63</td>\n      <td>75</td>\n      <td>17.27</td>\n      <td>broken clouds</td>\n    </tr>\n    <tr>\n      <th>2</th>\n      <td>2</td>\n      <td>Busselton</td>\n      <td>AU</td>\n      <td>-33.6500</td>\n      <td>115.3333</td>\n      <td>62.01</td>\n      <td>95</td>\n      <td>100</td>\n      <td>3.00</td>\n      <td>light rain</td>\n    </tr>\n    <tr>\n      <th>3</th>\n      <td>3</td>\n      <td>Ancud</td>\n      <td>CL</td>\n      <td>-41.8697</td>\n      <td>-73.8203</td>\n      <td>62.60</td>\n      <td>45</td>\n      <td>0</td>\n      <td>10.36</td>\n      <td>clear sky</td>\n    </tr>\n    <tr>\n      <th>5</th>\n      <td>5</td>\n      <td>Hermanus</td>\n      <td>ZA</td>\n      <td>-34.4187</td>\n      <td>19.2345</td>\n      <td>66.99</td>\n      <td>94</td>\n      <td>98</td>\n      <td>4.76</td>\n      <td>overcast clouds</td>\n    </tr>\n    <tr>\n      <th>7</th>\n      <td>7</td>\n      <td>Port Alfred</td>\n      <td>ZA</td>\n      <td>-33.5906</td>\n      <td>26.8910</td>\n      <td>66.99</td>\n      <td>87</td>\n      <td>33</td>\n      <td>4.00</td>\n      <td>scattered clouds</td>\n    </tr>\n    <tr>\n      <th>8</th>\n      <td>8</td>\n      <td>Castro</td>\n      <td>BR</td>\n      <td>-24.7911</td>\n      <td>-50.0119</td>\n      <td>61.25</td>\n      <td>92</td>\n      <td>42</td>\n      <td>10.87</td>\n      <td>scattered clouds</td>\n    </tr>\n    <tr>\n      <th>9</th>\n      <td>9</td>\n      <td>Kodiak</td>\n      <td>US</td>\n      <td>57.7900</td>\n      <td>-152.4072</td>\n      <td>35.60</td>\n      <td>64</td>\n      <td>1</td>\n      <td>5.75</td>\n      <td>clear sky</td>\n    </tr>\n    <tr>\n      <th>16</th>\n      <td>16</td>\n      <td>Bluff</td>\n      <td>NZ</td>\n      <td>-46.6000</td>\n      <td>168.3333</td>\n      <td>61.45</td>\n      <td>71</td>\n      <td>0</td>\n      <td>7.96</td>\n      <td>clear sky</td>\n    </tr>\n    <tr>\n      <th>17</th>\n      <td>17</td>\n      <td>Sao Filipe</td>\n      <td>CV</td>\n      <td>14.8961</td>\n      <td>-24.4956</td>\n      <td>69.31</td>\n      <td>74</td>\n      <td>18</td>\n      <td>14.97</td>\n      <td>few clouds</td>\n    </tr>\n    <tr>\n      <th>18</th>\n      <td>18</td>\n      <td>Silver City</td>\n      <td>US</td>\n      <td>32.7701</td>\n      <td>-108.2803</td>\n      <td>43.00</td>\n      <td>26</td>\n      <td>1</td>\n      <td>6.91</td>\n      <td>clear sky</td>\n    </tr>\n  </tbody>\n</table>\n</div>"
     },
     "metadata": {},
     "execution_count": 10
    }
   ],
   "source": [
    "# 3. Filter the city_data_df DataFrame using the input statements to create a new DataFrame using the loc method.\n",
    "templimit_cities_df = city_data_df.loc[(city_data_df[\"Max Temp\"]<=max_temp) & (city_data_df[\"Max Temp\"]>=min_temp)]\n",
    "templimit_cities_df.head(10)"
   ]
  },
  {
   "cell_type": "code",
   "execution_count": 11,
   "metadata": {},
   "outputs": [
    {
     "output_type": "execute_result",
     "data": {
      "text/plain": [
       "City_ID                275\n",
       "City                   275\n",
       "Country                271\n",
       "Lat                    275\n",
       "Lng                    275\n",
       "Max Temp               275\n",
       "Humidity               275\n",
       "Cloudiness             275\n",
       "Wind Speed             275\n",
       "Current Description    275\n",
       "dtype: int64"
      ]
     },
     "metadata": {},
     "execution_count": 11
    }
   ],
   "source": [
    "# 4a. Determine if there are any empty rows.\n",
    "templimit_cities_df.count()"
   ]
  },
  {
   "cell_type": "code",
   "execution_count": 12,
   "metadata": {},
   "outputs": [
    {
     "output_type": "execute_result",
     "data": {
      "text/plain": [
       "City_ID                271\n",
       "City                   271\n",
       "Country                271\n",
       "Lat                    271\n",
       "Lng                    271\n",
       "Max Temp               271\n",
       "Humidity               271\n",
       "Cloudiness             271\n",
       "Wind Speed             271\n",
       "Current Description    271\n",
       "dtype: int64"
      ]
     },
     "metadata": {},
     "execution_count": 12
    }
   ],
   "source": [
    "# 4b. Drop any empty rows and create a new DataFrame that doesn’t have empty rows.\n",
    "templimit_cities_new_df = templimit_cities_df.dropna()\n",
    "templimit_cities_new_df.count()"
   ]
  },
  {
   "cell_type": "code",
   "execution_count": 13,
   "metadata": {},
   "outputs": [
    {
     "output_type": "execute_result",
     "data": {
      "text/plain": [
       "           City Country  Max Temp Current Description      Lat       Lng  \\\n",
       "0        Hobart      AU     68.00       broken clouds -42.8794  147.3294   \n",
       "2     Busselton      AU     62.01          light rain -33.6500  115.3333   \n",
       "3         Ancud      CL     62.60           clear sky -41.8697  -73.8203   \n",
       "5      Hermanus      ZA     66.99     overcast clouds -34.4187   19.2345   \n",
       "7   Port Alfred      ZA     66.99    scattered clouds -33.5906   26.8910   \n",
       "8        Castro      BR     61.25    scattered clouds -24.7911  -50.0119   \n",
       "9        Kodiak      US     35.60           clear sky  57.7900 -152.4072   \n",
       "16        Bluff      NZ     61.45           clear sky -46.6000  168.3333   \n",
       "17   Sao Filipe      CV     69.31          few clouds  14.8961  -24.4956   \n",
       "18  Silver City      US     43.00           clear sky  32.7701 -108.2803   \n",
       "\n",
       "   Hotel Name  \n",
       "0              \n",
       "2              \n",
       "3              \n",
       "5              \n",
       "7              \n",
       "8              \n",
       "9              \n",
       "16             \n",
       "17             \n",
       "18             "
      ],
      "text/html": "<div>\n<style scoped>\n    .dataframe tbody tr th:only-of-type {\n        vertical-align: middle;\n    }\n\n    .dataframe tbody tr th {\n        vertical-align: top;\n    }\n\n    .dataframe thead th {\n        text-align: right;\n    }\n</style>\n<table border=\"1\" class=\"dataframe\">\n  <thead>\n    <tr style=\"text-align: right;\">\n      <th></th>\n      <th>City</th>\n      <th>Country</th>\n      <th>Max Temp</th>\n      <th>Current Description</th>\n      <th>Lat</th>\n      <th>Lng</th>\n      <th>Hotel Name</th>\n    </tr>\n  </thead>\n  <tbody>\n    <tr>\n      <th>0</th>\n      <td>Hobart</td>\n      <td>AU</td>\n      <td>68.00</td>\n      <td>broken clouds</td>\n      <td>-42.8794</td>\n      <td>147.3294</td>\n      <td></td>\n    </tr>\n    <tr>\n      <th>2</th>\n      <td>Busselton</td>\n      <td>AU</td>\n      <td>62.01</td>\n      <td>light rain</td>\n      <td>-33.6500</td>\n      <td>115.3333</td>\n      <td></td>\n    </tr>\n    <tr>\n      <th>3</th>\n      <td>Ancud</td>\n      <td>CL</td>\n      <td>62.60</td>\n      <td>clear sky</td>\n      <td>-41.8697</td>\n      <td>-73.8203</td>\n      <td></td>\n    </tr>\n    <tr>\n      <th>5</th>\n      <td>Hermanus</td>\n      <td>ZA</td>\n      <td>66.99</td>\n      <td>overcast clouds</td>\n      <td>-34.4187</td>\n      <td>19.2345</td>\n      <td></td>\n    </tr>\n    <tr>\n      <th>7</th>\n      <td>Port Alfred</td>\n      <td>ZA</td>\n      <td>66.99</td>\n      <td>scattered clouds</td>\n      <td>-33.5906</td>\n      <td>26.8910</td>\n      <td></td>\n    </tr>\n    <tr>\n      <th>8</th>\n      <td>Castro</td>\n      <td>BR</td>\n      <td>61.25</td>\n      <td>scattered clouds</td>\n      <td>-24.7911</td>\n      <td>-50.0119</td>\n      <td></td>\n    </tr>\n    <tr>\n      <th>9</th>\n      <td>Kodiak</td>\n      <td>US</td>\n      <td>35.60</td>\n      <td>clear sky</td>\n      <td>57.7900</td>\n      <td>-152.4072</td>\n      <td></td>\n    </tr>\n    <tr>\n      <th>16</th>\n      <td>Bluff</td>\n      <td>NZ</td>\n      <td>61.45</td>\n      <td>clear sky</td>\n      <td>-46.6000</td>\n      <td>168.3333</td>\n      <td></td>\n    </tr>\n    <tr>\n      <th>17</th>\n      <td>Sao Filipe</td>\n      <td>CV</td>\n      <td>69.31</td>\n      <td>few clouds</td>\n      <td>14.8961</td>\n      <td>-24.4956</td>\n      <td></td>\n    </tr>\n    <tr>\n      <th>18</th>\n      <td>Silver City</td>\n      <td>US</td>\n      <td>43.00</td>\n      <td>clear sky</td>\n      <td>32.7701</td>\n      <td>-108.2803</td>\n      <td></td>\n    </tr>\n  </tbody>\n</table>\n</div>"
     },
     "metadata": {},
     "execution_count": 13
    }
   ],
   "source": [
    "# 5a. Create DataFrame called hotel_df to store hotel names along with city, country, max temp, and coordinates.\n",
    "hotel_df = templimit_cities_new_df[[\"City\", \"Country\", \"Max Temp\", \"Current Description\", \"Lat\", \"Lng\"]].copy()\n",
    "\n",
    "# 5b. Create a new column \"Hotel Name\"\n",
    "hotel_df[\"Hotel Name\"] = \"\"\n",
    "hotel_df.head(10)"
   ]
  },
  {
   "cell_type": "code",
   "execution_count": 14,
   "metadata": {},
   "outputs": [
    {
     "output_type": "stream",
     "name": "stdout",
     "text": [
      "Hotel not found.... skipping.\n",
      "Hotel not found.... skipping.\n",
      "Hotel not found.... skipping.\n",
      "Hotel not found.... skipping.\n",
      "Hotel not found.... skipping.\n",
      "Hotel not found.... skipping.\n",
      "Hotel not found.... skipping.\n",
      "Hotel not found.... skipping.\n",
      "Hotel not found.... skipping.\n",
      "Hotel not found.... skipping.\n",
      "Hotel not found.... skipping.\n",
      "Hotel not found.... skipping.\n",
      "Hotel not found.... skipping.\n",
      "Hotel not found.... skipping.\n",
      "Hotel not found.... skipping.\n",
      "Hotel not found.... skipping.\n",
      "Hotel not found.... skipping.\n",
      "Hotel not found.... skipping.\n",
      "Hotel not found.... skipping.\n",
      "Hotel not found.... skipping.\n",
      "Hotel not found.... skipping.\n",
      "Hotel not found.... skipping.\n",
      "Hotel not found.... skipping.\n",
      "Hotel not found.... skipping.\n",
      "Hotel not found.... skipping.\n"
     ]
    }
   ],
   "source": [
    "# 6a. Set parameters to search for hotels with 5000 meters.\n",
    "params = {\n",
    "    \"radius\": 5000,\n",
    "    \"type\": \"lodging\",\n",
    "    \"key\": g_key\n",
    "}\n",
    "\n",
    "# 6b. Iterate through the hotel DataFrame.\n",
    "for index, row in hotel_df.iterrows():\n",
    "    # 6c. Get latitude and longitude from DataFrame\n",
    "    lat = row[\"Lat\"]\n",
    "    lng = row[\"Lng\"]\n",
    "    params[\"location\"] = f\"{lat},{lng}\"\n",
    "    # 6d. Set up the base URL for the Google Directions API to get JSON data.\n",
    "    base_url = \"https://maps.googleapis.com/maps/api/place/nearbysearch/json\"\n",
    "\n",
    "    # 6e. Make request and retrieve the JSON data from the search. \n",
    "    hotels = requests.get(base_url, params=params).json()\n",
    "    \n",
    "    # 6f. Get the first hotel from the results and store the name, if a hotel isn't found skip the city.\n",
    "    try:\n",
    "        hotel_df.loc[index, \"Hotel Name\"] = hotels[\"results\"][0][\"name\"]\n",
    "    except (IndexError):\n",
    "        print(\"Hotel not found.... skipping.\")    \n",
    "        "
   ]
  },
  {
   "cell_type": "code",
   "execution_count": 25,
   "metadata": {},
   "outputs": [
    {
     "output_type": "execute_result",
     "data": {
      "text/plain": [
       "           City Country  Max Temp Current Description      Lat       Lng  \\\n",
       "0        Hobart      AU     68.00       broken clouds -42.8794  147.3294   \n",
       "2     Busselton      AU     62.01          light rain -33.6500  115.3333   \n",
       "3         Ancud      CL     62.60           clear sky -41.8697  -73.8203   \n",
       "5      Hermanus      ZA     66.99     overcast clouds -34.4187   19.2345   \n",
       "7   Port Alfred      ZA     66.99    scattered clouds -33.5906   26.8910   \n",
       "8        Castro      BR     61.25    scattered clouds -24.7911  -50.0119   \n",
       "9        Kodiak      US     35.60           clear sky  57.7900 -152.4072   \n",
       "16        Bluff      NZ     61.45           clear sky -46.6000  168.3333   \n",
       "17   Sao Filipe      CV     69.31          few clouds  14.8961  -24.4956   \n",
       "18  Silver City      US     43.00           clear sky  32.7701 -108.2803   \n",
       "19    Mae Ramat      TH     69.80                mist  16.9840   98.5166   \n",
       "21        Aswan      EG     55.02           clear sky  24.0934   32.9070   \n",
       "22        Lagoa      PT     60.15     overcast clouds  39.0500  -27.9833   \n",
       "24   Lindenberg      DE     43.00     overcast clouds  49.3803    8.0986   \n",
       "28      Jodhpur      IN     52.07           clear sky  26.2867   73.0300   \n",
       "\n",
       "                                       Hotel Name  \n",
       "0           St Ives Hobart Accommodation Tasmania  \n",
       "2                         Observatory Guest House  \n",
       "3                              Hotel Arena Gruesa  \n",
       "5                      Misty Waves Boutique Hotel  \n",
       "7                              The Halyards Hotel  \n",
       "8                                  CHACARA BAILLY  \n",
       "9   Best Western Kodiak Inn And Convention Center  \n",
       "16  Bluff Homestead - Guesthouse & Campervan Park  \n",
       "17                                    Tortuga B&B  \n",
       "18                             Copper Manor Motel  \n",
       "19                  บ้านโฮ่งโฮมสเตย์ แม่ระมาด ตาก  \n",
       "21                                      Nuba Nile  \n",
       "22                                 Casa Das Faias  \n",
       "24                                   Hotel Tenner  \n",
       "28                   Umaid Bhawan Palace, Jodhpur  "
      ],
      "text/html": "<div>\n<style scoped>\n    .dataframe tbody tr th:only-of-type {\n        vertical-align: middle;\n    }\n\n    .dataframe tbody tr th {\n        vertical-align: top;\n    }\n\n    .dataframe thead th {\n        text-align: right;\n    }\n</style>\n<table border=\"1\" class=\"dataframe\">\n  <thead>\n    <tr style=\"text-align: right;\">\n      <th></th>\n      <th>City</th>\n      <th>Country</th>\n      <th>Max Temp</th>\n      <th>Current Description</th>\n      <th>Lat</th>\n      <th>Lng</th>\n      <th>Hotel Name</th>\n    </tr>\n  </thead>\n  <tbody>\n    <tr>\n      <th>0</th>\n      <td>Hobart</td>\n      <td>AU</td>\n      <td>68.00</td>\n      <td>broken clouds</td>\n      <td>-42.8794</td>\n      <td>147.3294</td>\n      <td>St Ives Hobart Accommodation Tasmania</td>\n    </tr>\n    <tr>\n      <th>2</th>\n      <td>Busselton</td>\n      <td>AU</td>\n      <td>62.01</td>\n      <td>light rain</td>\n      <td>-33.6500</td>\n      <td>115.3333</td>\n      <td>Observatory Guest House</td>\n    </tr>\n    <tr>\n      <th>3</th>\n      <td>Ancud</td>\n      <td>CL</td>\n      <td>62.60</td>\n      <td>clear sky</td>\n      <td>-41.8697</td>\n      <td>-73.8203</td>\n      <td>Hotel Arena Gruesa</td>\n    </tr>\n    <tr>\n      <th>5</th>\n      <td>Hermanus</td>\n      <td>ZA</td>\n      <td>66.99</td>\n      <td>overcast clouds</td>\n      <td>-34.4187</td>\n      <td>19.2345</td>\n      <td>Misty Waves Boutique Hotel</td>\n    </tr>\n    <tr>\n      <th>7</th>\n      <td>Port Alfred</td>\n      <td>ZA</td>\n      <td>66.99</td>\n      <td>scattered clouds</td>\n      <td>-33.5906</td>\n      <td>26.8910</td>\n      <td>The Halyards Hotel</td>\n    </tr>\n    <tr>\n      <th>8</th>\n      <td>Castro</td>\n      <td>BR</td>\n      <td>61.25</td>\n      <td>scattered clouds</td>\n      <td>-24.7911</td>\n      <td>-50.0119</td>\n      <td>CHACARA BAILLY</td>\n    </tr>\n    <tr>\n      <th>9</th>\n      <td>Kodiak</td>\n      <td>US</td>\n      <td>35.60</td>\n      <td>clear sky</td>\n      <td>57.7900</td>\n      <td>-152.4072</td>\n      <td>Best Western Kodiak Inn And Convention Center</td>\n    </tr>\n    <tr>\n      <th>16</th>\n      <td>Bluff</td>\n      <td>NZ</td>\n      <td>61.45</td>\n      <td>clear sky</td>\n      <td>-46.6000</td>\n      <td>168.3333</td>\n      <td>Bluff Homestead - Guesthouse &amp; Campervan Park</td>\n    </tr>\n    <tr>\n      <th>17</th>\n      <td>Sao Filipe</td>\n      <td>CV</td>\n      <td>69.31</td>\n      <td>few clouds</td>\n      <td>14.8961</td>\n      <td>-24.4956</td>\n      <td>Tortuga B&amp;B</td>\n    </tr>\n    <tr>\n      <th>18</th>\n      <td>Silver City</td>\n      <td>US</td>\n      <td>43.00</td>\n      <td>clear sky</td>\n      <td>32.7701</td>\n      <td>-108.2803</td>\n      <td>Copper Manor Motel</td>\n    </tr>\n    <tr>\n      <th>19</th>\n      <td>Mae Ramat</td>\n      <td>TH</td>\n      <td>69.80</td>\n      <td>mist</td>\n      <td>16.9840</td>\n      <td>98.5166</td>\n      <td>บ้านโฮ่งโฮมสเตย์ แม่ระมาด ตาก</td>\n    </tr>\n    <tr>\n      <th>21</th>\n      <td>Aswan</td>\n      <td>EG</td>\n      <td>55.02</td>\n      <td>clear sky</td>\n      <td>24.0934</td>\n      <td>32.9070</td>\n      <td>Nuba Nile</td>\n    </tr>\n    <tr>\n      <th>22</th>\n      <td>Lagoa</td>\n      <td>PT</td>\n      <td>60.15</td>\n      <td>overcast clouds</td>\n      <td>39.0500</td>\n      <td>-27.9833</td>\n      <td>Casa Das Faias</td>\n    </tr>\n    <tr>\n      <th>24</th>\n      <td>Lindenberg</td>\n      <td>DE</td>\n      <td>43.00</td>\n      <td>overcast clouds</td>\n      <td>49.3803</td>\n      <td>8.0986</td>\n      <td>Hotel Tenner</td>\n    </tr>\n    <tr>\n      <th>28</th>\n      <td>Jodhpur</td>\n      <td>IN</td>\n      <td>52.07</td>\n      <td>clear sky</td>\n      <td>26.2867</td>\n      <td>73.0300</td>\n      <td>Umaid Bhawan Palace, Jodhpur</td>\n    </tr>\n  </tbody>\n</table>\n</div>"
     },
     "metadata": {},
     "execution_count": 25
    }
   ],
   "source": [
    "# 7. Drop the rows where there is no Hotel Name.\n",
    "clean_hotel_df = hotel_df[hotel_df[\"Hotel Name\"]!=\"\"]\n",
    "clean_hotel_df.head(15)"
   ]
  },
  {
   "cell_type": "code",
   "execution_count": 23,
   "metadata": {},
   "outputs": [],
   "source": [
    "# 8a. Create the output File (CSV)\n",
    "output_data_file = \"Vacation_Search/WeatherPy_vacation.csv\"\n",
    "# 8b. Export the City_Data into a csv\n",
    "clean_hotel_df.to_csv(output_data_file, index_label=\"City_ID\")"
   ]
  },
  {
   "cell_type": "code",
   "execution_count": 30,
   "metadata": {},
   "outputs": [],
   "source": [
    "# 9. Using the template add city name, the country code, the weather description and maximum temperature for the city.\n",
    "info_box_template = \"\"\"\n",
    "<dl>\n",
    "<dt><b>Hotel Name</b></dt><dd>{Hotel Name}</dd>\n",
    "<dt><b>City</b></dt><dd>{City}</dd>\n",
    "<dt><b>Country</b></dt><dd>{Country}</dd>\n",
    "<dt><b>Current Weather</b></dt><dd>{Current Description} and {Max Temp} °F</dd>\n",
    "</dl>\n",
    "\"\"\"\n",
    "\n",
    "# 10a. Get the data from each row and add it to the formatting template and store the data in a list.\n",
    "hotel_info = [info_box_template.format(**row) for index, row in clean_hotel_df.iterrows()]\n",
    "\n",
    "# 10b. Get the latitude and longitude from each row and store in a new DataFrame.\n",
    "locations = clean_hotel_df[[\"Lat\", \"Lng\"]]"
   ]
  },
  {
   "cell_type": "code",
   "execution_count": 31,
   "metadata": {},
   "outputs": [
    {
     "output_type": "display_data",
     "data": {
      "text/plain": "Figure(layout=FigureLayout(height='420px'))",
      "application/vnd.jupyter.widget-view+json": {
       "version_major": 2,
       "version_minor": 0,
       "model_id": "28485a7f327a45a192b3b1062201d939"
      }
     },
     "metadata": {}
    }
   ],
   "source": [
    "# 11a. Add a marker layer for each city to the map. \n",
    "fig = gmaps.figure(center=(30.0, 31.0), zoom_level=1.5)\n",
    "marker_layer = gmaps.marker_layer(locations, info_box_content=hotel_info)\n",
    "fig.add_layer(marker_layer)\n",
    "# 11b. Display the figure\n",
    "fig"
   ]
  },
  {
   "cell_type": "code",
   "execution_count": null,
   "metadata": {},
   "outputs": [],
   "source": []
  },
  {
   "cell_type": "code",
   "execution_count": null,
   "metadata": {},
   "outputs": [],
   "source": []
  }
 ],
 "metadata": {
  "kernelspec": {
   "display_name": "PythonData",
   "language": "python",
   "name": "pythondata"
  },
  "language_info": {
   "codemirror_mode": {
    "name": "ipython",
    "version": 3
   },
   "file_extension": ".py",
   "mimetype": "text/x-python",
   "name": "python",
   "nbconvert_exporter": "python",
   "pygments_lexer": "ipython3",
   "version": "3.8.5-final"
  },
  "latex_envs": {
   "LaTeX_envs_menu_present": true,
   "autoclose": false,
   "autocomplete": true,
   "bibliofile": "biblio.bib",
   "cite_by": "apalike",
   "current_citInitial": 1,
   "eqLabelWithNumbers": true,
   "eqNumInitial": 1,
   "hotkeys": {
    "equation": "Ctrl-E",
    "itemize": "Ctrl-I"
   },
   "labels_anchors": false,
   "latex_user_defs": false,
   "report_style_numbering": false,
   "user_envs_cfg": false
  }
 },
 "nbformat": 4,
 "nbformat_minor": 2
}